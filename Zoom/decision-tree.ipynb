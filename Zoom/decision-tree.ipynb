{
 "cells": [
  {
   "cell_type": "code",
   "execution_count": null,
   "metadata": {},
   "outputs": [],
   "source": [
    "import pandas as pd\n",
    "\n",
    "dataset = pd.read_csv('train.csv')\n",
    "dataset.head()"
   ]
  },
  {
   "cell_type": "code",
   "execution_count": null,
   "metadata": {},
   "outputs": [],
   "source": [
    "dataset.columns"
   ]
  },
  {
   "cell_type": "code",
   "execution_count": null,
   "metadata": {},
   "outputs": [],
   "source": [
    "y = dataset.SalePrice\n",
    "y.head()"
   ]
  },
  {
   "cell_type": "code",
   "execution_count": null,
   "metadata": {},
   "outputs": [],
   "source": [
    "features = ['LotArea', 'YearBuilt', '1stFlrSF', '2ndFlrSF', 'FullBath', 'TotRmsAbvGrd' ]\n",
    "X = dataset[features]\n",
    "X.head()"
   ]
  },
  {
   "cell_type": "code",
   "execution_count": null,
   "metadata": {},
   "outputs": [],
   "source": [
    "from sklearn.tree import DecisionTreeRegressor\n",
    "\n",
    "house_model = DecisionTreeRegressor(random_state=1)\n",
    "\n",
    "house_model.fit(X,y)\n",
    "\n",
    "# house_model.predict(X)\n",
    "\n",
    "print(house_model.predict(X))\n"
   ]
  },
  {
   "cell_type": "code",
   "execution_count": null,
   "metadata": {},
   "outputs": [],
   "source": [
    "from sklearn.model_selection import train_test_split\n",
    "\n",
    "train_X, val_X, train_y, val_y = train_test_split(X, y, random_state=1)\n",
    "print(val_X)\n"
   ]
  },
  {
   "cell_type": "code",
   "execution_count": 27,
   "metadata": {},
   "outputs": [
    {
     "name": "stdout",
     "output_type": "stream",
     "text": [
      "[186500. 184000. 130000.  92000. 142000. 220000. 333168. 144152. 215000.\n",
      " 262000. 180000. 121000. 175900. 180000. 251000. 127500. 109900. 135000.\n",
      " 235000. 156000. 150500. 265979. 193000. 377500. 100000. 165000. 145000.\n",
      " 180000. 582933. 146000. 140000.  91500. 123000. 113000. 145000. 386250.\n",
      " 100000. 132000. 305000. 127500. 162900. 115000. 110000. 124000. 213000.\n",
      " 180000.  88000. 193879. 265900. 235000. 132000. 325000.  80000. 240000.\n",
      " 203000.  91000. 120500. 160000. 147000. 187000. 165000. 342643. 130000.\n",
      " 124900. 165000. 134500. 132000. 226000. 146800. 153500. 136000. 153575.\n",
      " 333168. 177500. 140000. 202500. 168500. 105000. 305900. 193879. 226000.\n",
      " 140200. 134900. 162000. 213000. 140000. 149500. 190000. 178000. 160000.\n",
      " 250580. 162500. 120500. 179900. 118000. 114504. 120000. 139000. 148500.\n",
      " 145000. 197900. 130500. 132000. 120500. 135000. 167500. 176432. 107400.\n",
      " 147000. 260000. 127000. 124500. 171000. 181134. 226700. 189000. 265900.\n",
      "  94750. 223500. 187500. 152000. 279500. 302000. 135000. 299800. 162500.\n",
      " 394432. 139000. 155000. 212000. 275500. 134800.  84000. 118000.  80000.\n",
      " 191000. 755000. 216837. 248000. 120000. 145000. 325000. 145000. 192500.\n",
      " 149000. 252000. 105900. 215000. 220000. 138500. 189000. 185000. 120500.\n",
      " 181000. 173000. 333168.  67000. 137500.  67000. 156000. 120500. 110500.\n",
      " 149500. 147000. 156000. 171000. 177000. 152000. 125000. 105000. 284000.\n",
      " 168000. 200000. 386250. 213000. 135960. 205000. 237000. 116000. 167900.\n",
      " 118500. 156932. 165500. 138500. 257000. 179900. 394617. 281213. 159434.\n",
      " 116500.  88000. 139000.  89500. 130000. 134800. 335000. 251000. 155000.\n",
      " 147000.  86000. 191000. 200000. 181900. 215200. 319900. 105000. 194000.\n",
      " 340000. 256000. 280000. 186500. 107900. 155000. 132000. 255500. 253000.\n",
      " 130000.  92900. 256000.  88000. 755000. 138500. 174000. 126000. 127000.\n",
      " 127500. 197000. 181000. 171900. 160000. 128000. 173000. 132000. 118000.\n",
      " 235000. 118964. 260000. 111000. 223500. 315750. 236500. 140000. 151500.\n",
      " 184000.  84000. 130000. 140000. 205000. 110000. 151500. 123000. 130500.\n",
      " 173900. 162500. 165500. 106500. 177500.  84500. 377500. 132500. 185000.\n",
      " 190000. 207500. 181000.  98000. 157000. 151500.  84000. 139000. 100000.\n",
      " 161750. 165600. 107000. 118500. 187000. 145000. 112000. 132000. 230000.\n",
      " 128000. 147000. 125000. 137500. 156000. 214000. 221000. 140200. 129000.\n",
      " 284000. 108000.  82500. 310000. 140000. 132000. 203000. 229000. 215200.\n",
      " 214000. 139000. 118400. 140000. 155000. 115000. 180000. 165500. 223000.\n",
      " 139000. 179900. 150000. 185000. 167900. 185000. 127000. 232000. 146000.\n",
      " 110500. 275000. 180500. 180000. 157000. 186500. 179900. 137500. 219500.\n",
      " 155000. 383970. 206000. 205000. 161750. 161000. 156000. 196000. 252678.\n",
      " 255500. 215200. 150900. 143750. 139000. 260000. 189000. 213250. 207500.\n",
      "  80000. 221000. 109500. 155000. 165000. 143500. 233170. 105900. 155000.\n",
      " 148800. 395000. 149700. 147000. 139600. 227875. 176000. 111000. 325300.\n",
      " 109900. 189000. 146000. 284000. 201800.]\n"
     ]
    }
   ],
   "source": [
    "from sklearn.tree import DecisionTreeRegressor\n",
    "\n",
    "validation_model = DecisionTreeRegressor(random_state=1)\n",
    "\n",
    "validation_model.fit(train_X, train_y)\n",
    "\n",
    "prediction = validation_model.predict(val_X)\n",
    "\n",
    "print(prediction)"
   ]
  },
  {
   "cell_type": "code",
   "execution_count": 28,
   "metadata": {},
   "outputs": [
    {
     "name": "stdout",
     "output_type": "stream",
     "text": [
      "28843.912328767125\n"
     ]
    }
   ],
   "source": [
    "from sklearn.metrics import mean_absolute_error\n",
    "\n",
    "print(mean_absolute_error(val_y, prediction))"
   ]
  },
  {
   "cell_type": "code",
   "execution_count": 30,
   "metadata": {},
   "outputs": [
    {
     "name": "stdout",
     "output_type": "stream",
     "text": [
      "22471.236347031965\n"
     ]
    }
   ],
   "source": [
    "from sklearn.ensemble import RandomForestRegressor\n",
    "\n",
    "final_model = RandomForestRegressor(random_state=1)\n",
    "final_model.fit(train_X, train_y)\n",
    "final_pred = final_model.predict(val_X)\n",
    "\n",
    "# print(final_pred)\n",
    "\n",
    "final_mae = mean_absolute_error(val_y, final_pred)\n",
    "\n",
    "print(final_mae)"
   ]
  }
 ],
 "metadata": {
  "kernelspec": {
   "display_name": "Python 3.9.10 64-bit",
   "language": "python",
   "name": "python3"
  },
  "language_info": {
   "codemirror_mode": {
    "name": "ipython",
    "version": 3
   },
   "file_extension": ".py",
   "mimetype": "text/x-python",
   "name": "python",
   "nbconvert_exporter": "python",
   "pygments_lexer": "ipython3",
   "version": "3.9.10"
  },
  "orig_nbformat": 4,
  "vscode": {
   "interpreter": {
    "hash": "11938c6bc6919ae2720b4d5011047913343b08a43b18698fd82dedb0d4417594"
   }
  }
 },
 "nbformat": 4,
 "nbformat_minor": 2
}
