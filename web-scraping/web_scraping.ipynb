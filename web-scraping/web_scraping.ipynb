{
  "nbformat": 4,
  "nbformat_minor": 0,
  "metadata": {
    "colab": {
      "provenance": [],
      "collapsed_sections": []
    },
    "kernelspec": {
      "name": "python3",
      "display_name": "Python 3"
    },
    "language_info": {
      "name": "python"
    }
  },
  "cells": [
    {
      "cell_type": "code",
      "execution_count": null,
      "metadata": {
        "colab": {
          "base_uri": "https://localhost:8080/"
        },
        "id": "rC3az0QuuUoh",
        "outputId": "2f4e373e-03da-4a82-8f9b-98f07adcd2e1"
      },
      "outputs": [
        {
          "output_type": "stream",
          "name": "stdout",
          "text": [
            "                     Movie Name  Year Rating\n",
            "SL No                                       \n",
            "1      The Shawshank Redemption  1994    9.2\n",
            "2                 The Godfather  1972    9.2\n",
            "3               The Dark Knight  2008    9.0\n",
            "4         The Godfather Part II  1974    9.0\n",
            "5                  12 Angry Men  1957    9.0\n",
            "...                         ...   ...    ...\n",
            "246                 Dersu Uzala  1975    8.0\n",
            "247                    The Help  2011    8.0\n",
            "248                      Gandhi  1982    8.0\n",
            "249                     Aladdin  1992    8.0\n",
            "250              The Iron Giant  1999    8.0\n",
            "\n",
            "[250 rows x 3 columns]\n"
          ]
        }
      ],
      "source": [
        "from bs4 import BeautifulSoup\n",
        "import requests\n",
        "import pandas as pd\n",
        "\n",
        "Columns_name=['SL No', 'Movie Name', 'Year', 'Rating']\n",
        "df = pd.DataFrame(columns = Columns_name)\n",
        "\n",
        "SlnoList=[]\n",
        "MovienameList=[]\n",
        "YearList=[]\n",
        "RatingList=[]\n",
        "try:\n",
        "    url = requests.get('https://www.imdb.com/chart/top')\n",
        "    url.raise_for_status()\n",
        "\n",
        "    soupobj = BeautifulSoup(url.text, 'html.parser')\n",
        "    \n",
        "    movies = soupobj.find('tbody', class_=\"lister-list\").find_all('tr')\n",
        "\n",
        "    for movie in movies:\n",
        "      sl_no = movie.find('td', class_=\"titleColumn\").get_text(strip=True).split('.')[0]\n",
        "      name = movie.find('td', class_=\"titleColumn\").a.text\n",
        "      year = movie.find('td', class_=\"titleColumn\").span.text.strip('()')\n",
        "      rating = movie.find('td', class_=\"ratingColumn imdbRating\").strong.text\n",
        "      # print(sl_no, name, year, rating) \n",
        "\n",
        "      SlnoList.append(sl_no)\n",
        "      MovienameList.append(name)\n",
        "      YearList.append(year)\n",
        "      RatingList.append(rating)\n",
        "\n",
        "    df[\"SL No\"] = SlnoList   \n",
        "    df[\"Movie Name\"] = MovienameList\n",
        "    df[\"Year\"] = YearList\n",
        "    df[\"Rating\"] = RatingList   \n",
        "\n",
        "except Exception as e:\n",
        "    print(e)\n",
        "\n",
        "print(df.set_index('SL No'))"
      ]
    }
  ]
}